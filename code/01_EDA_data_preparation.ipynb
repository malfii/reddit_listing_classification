{
 "cells": [
  {
   "cell_type": "markdown",
   "metadata": {},
   "source": [
    "# EDA and data preparation\n",
    "This file includes the following parts: \n",
    "- Choose what subreddits will be used for our analysis (we will use 2 or 4 depending on time and scope of the project).\n",
    "- Create the appropriate dataset by combining the data from the desired subreddits of interest.\n",
    "- Start EDA on the dataset of interest and observe any possible trends/relations/clues.\n",
    "- Summarize the findings and recommendations to be used for the modeling part.\n",
    "- Repeat the same process in case other subreddits are intended to be investigated."
   ]
  },
  {
   "cell_type": "code",
   "execution_count": 78,
   "metadata": {},
   "outputs": [],
   "source": [
    "\n",
    "# imports\n",
    "import pandas as pd\n",
    "import numpy as np \n",
    "import matplotlib.pyplot as plt \n",
    "import seaborn as sns \n",
    "\n",
    "import os # to check for file existance\n",
    "\n",
    "# for time conversion\n",
    "from datetime import datetime\n",
    "\n",
    "import re   # for regex"
   ]
  },
  {
   "cell_type": "markdown",
   "metadata": {},
   "source": [
    "## Functions\n",
    "---\n"
   ]
  },
  {
   "cell_type": "code",
   "execution_count": null,
   "metadata": {},
   "outputs": [],
   "source": []
  },
  {
   "cell_type": "markdown",
   "metadata": {},
   "source": [
    "## 'offmychest' and 'relationship_advice' subreddits\n",
    "---\n",
    "In this section, we have investigated two subreddits and tried to see if we can observe any interesting points by doing EDA. The two subreddits of interest are r/offmychest and r/relationship_advice. Both subreddits have a relatively high number of listings per day so this will give us enough information to investigate on. offmychest subreddit mostly contains listings about personal issues, emotional hardships, life problems, and also issues in peoples relationships. The subreddit usually does have a sad tone because people use it as a way to express their feelings, unburden some thoughts, or to confess about things. relationship_advice subreddit focuses more on relationships and the ups and downs in it. <br>\n",
    "The reasons these two subreddits were used for our investigation is that while these two subreddits represent two topics that could be distinguishable from each other, they do have common points that could make the classification process challenging. Although offmychest includes a wide variety of subjects, it often includes topics which are related to relationship and the problems around it. This overlap can cause our model to struggle since we are mainly relying on the words that used in each listing and having a similar context in both subreddits results in the use of similar vocabularies. \n"
   ]
  },
  {
   "cell_type": "markdown",
   "metadata": {},
   "source": [
    "### combining data from different subreddits if needed"
   ]
  },
  {
   "cell_type": "markdown",
   "metadata": {},
   "source": [
    "Read the raw data from the two related csv files. Then combine them together, shuffle, and create  a new csv file. Only create the new csv file if there is not already a .csv file. This makes sure that the current data will not be accidentally overwritten. If the user wants to use new raw .csv files from new data scraping, they will have to delete offmychest-relationship_advice.csv file."
   ]
  },
  {
   "cell_type": "code",
   "execution_count": 33,
   "metadata": {},
   "outputs": [
    {
     "name": "stdout",
     "output_type": "stream",
     "text": [
      "+++> no new file is generated for these data as offmychestrelationship_advice.csv file already exists\n"
     ]
    }
   ],
   "source": [
    "# created the necessary file if not already created by mixing two related data\n",
    "subred1 = 'offmychest'\n",
    "subred2 = 'relationship_advice'\n",
    "path = './../dataset/'\n",
    "\n",
    "if not os.path.isfile(path+subred1+subred2+'.csv'):\n",
    "\n",
    "    df1 = pd.read_csv(path+subred1+'.csv')\n",
    "    df1['subreddit'] = subred1\n",
    "    df2 = pd.read_csv(path+subred2+'.csv')\n",
    "    df2['subreddit'] = subred2\n",
    "    df = pd.concat([df1, df2], axis=0)\n",
    "    df = df.sample(frac=1)  # shuffle the rows\n",
    "    print(f'===> creating a new .csv file by merging and suffling data from {subred1}.csv and {subred2}.csv')\n",
    "    df.to_csv(path+subred1+subred2+'.csv', index=False)\n",
    "else:\n",
    "    print(f'+++> no new file is generated for these data as {subred1+subred2}.csv file already exists')\n"
   ]
  },
  {
   "cell_type": "markdown",
   "metadata": {},
   "source": [
    "In this dataset, the columns represent the followings:\n",
    "- 'text': shows the body text of the listing (listing in this document means the reddit post)\n",
    "- 'title': shows the title of the listing\n",
    "- 'listingid': shows the unique id of that listing\n",
    "- 'created': time (utc) for when the listing is created\n",
    "- 'url': the url related to that listing\n",
    "- 'media': media related to the listing\n",
    "- 'subreddit': the name of the subreddit the listing belongs to"
   ]
  },
  {
   "cell_type": "code",
   "execution_count": 34,
   "metadata": {},
   "outputs": [
    {
     "data": {
      "text/html": [
       "<div>\n",
       "<style scoped>\n",
       "    .dataframe tbody tr th:only-of-type {\n",
       "        vertical-align: middle;\n",
       "    }\n",
       "\n",
       "    .dataframe tbody tr th {\n",
       "        vertical-align: top;\n",
       "    }\n",
       "\n",
       "    .dataframe thead th {\n",
       "        text-align: right;\n",
       "    }\n",
       "</style>\n",
       "<table border=\"1\" class=\"dataframe\">\n",
       "  <thead>\n",
       "    <tr style=\"text-align: right;\">\n",
       "      <th></th>\n",
       "      <th>text</th>\n",
       "      <th>title</th>\n",
       "      <th>listingid</th>\n",
       "      <th>created</th>\n",
       "      <th>url</th>\n",
       "      <th>media</th>\n",
       "      <th>subreddit</th>\n",
       "    </tr>\n",
       "  </thead>\n",
       "  <tbody>\n",
       "    <tr>\n",
       "      <th>0</th>\n",
       "      <td>\\nI have been with the most loving caring man ...</td>\n",
       "      <td>He(18M) broke up with me(18F) over text and i ...</td>\n",
       "      <td>18s2ejz</td>\n",
       "      <td>1.703689e+09</td>\n",
       "      <td>https://www.reddit.com/r/relationship_advice/c...</td>\n",
       "      <td>NaN</td>\n",
       "      <td>relationship_advice</td>\n",
       "    </tr>\n",
       "    <tr>\n",
       "      <th>1</th>\n",
       "      <td>i’ll get the frick over it though. i am strong...</td>\n",
       "      <td>pretty sure i’m going through a mild depression</td>\n",
       "      <td>18q4ehr</td>\n",
       "      <td>1.703454e+09</td>\n",
       "      <td>https://www.reddit.com/r/offmychest/comments/1...</td>\n",
       "      <td>NaN</td>\n",
       "      <td>offmychest</td>\n",
       "    </tr>\n",
       "    <tr>\n",
       "      <th>2</th>\n",
       "      <td>Just to note there is discussion on sensitive ...</td>\n",
       "      <td>I’m becoming all the things in my past I’ve gr...</td>\n",
       "      <td>18mvf1c</td>\n",
       "      <td>1.703081e+09</td>\n",
       "      <td>https://www.reddit.com/r/offmychest/comments/1...</td>\n",
       "      <td>NaN</td>\n",
       "      <td>offmychest</td>\n",
       "    </tr>\n",
       "    <tr>\n",
       "      <th>3</th>\n",
       "      <td>35F - 59M - Pregnancy after prostate cancer.\\n...</td>\n",
       "      <td>Pregnancy after prostate cancer. 35F - 59M.</td>\n",
       "      <td>18rb1aj</td>\n",
       "      <td>1.703606e+09</td>\n",
       "      <td>https://www.reddit.com/r/relationship_advice/c...</td>\n",
       "      <td>NaN</td>\n",
       "      <td>relationship_advice</td>\n",
       "    </tr>\n",
       "    <tr>\n",
       "      <th>4</th>\n",
       "      <td>I met a girl name “A” on Yubo About August 18,...</td>\n",
       "      <td>I miss you.</td>\n",
       "      <td>18njdi3</td>\n",
       "      <td>1.703152e+09</td>\n",
       "      <td>https://www.reddit.com/r/offmychest/comments/1...</td>\n",
       "      <td>NaN</td>\n",
       "      <td>offmychest</td>\n",
       "    </tr>\n",
       "  </tbody>\n",
       "</table>\n",
       "</div>"
      ],
      "text/plain": [
       "                                                text  \\\n",
       "0  \\nI have been with the most loving caring man ...   \n",
       "1  i’ll get the frick over it though. i am strong...   \n",
       "2  Just to note there is discussion on sensitive ...   \n",
       "3  35F - 59M - Pregnancy after prostate cancer.\\n...   \n",
       "4  I met a girl name “A” on Yubo About August 18,...   \n",
       "\n",
       "                                               title listingid       created  \\\n",
       "0  He(18M) broke up with me(18F) over text and i ...   18s2ejz  1.703689e+09   \n",
       "1    pretty sure i’m going through a mild depression   18q4ehr  1.703454e+09   \n",
       "2  I’m becoming all the things in my past I’ve gr...   18mvf1c  1.703081e+09   \n",
       "3        Pregnancy after prostate cancer. 35F - 59M.   18rb1aj  1.703606e+09   \n",
       "4                                        I miss you.   18njdi3  1.703152e+09   \n",
       "\n",
       "                                                 url  media  \\\n",
       "0  https://www.reddit.com/r/relationship_advice/c...    NaN   \n",
       "1  https://www.reddit.com/r/offmychest/comments/1...    NaN   \n",
       "2  https://www.reddit.com/r/offmychest/comments/1...    NaN   \n",
       "3  https://www.reddit.com/r/relationship_advice/c...    NaN   \n",
       "4  https://www.reddit.com/r/offmychest/comments/1...    NaN   \n",
       "\n",
       "             subreddit  \n",
       "0  relationship_advice  \n",
       "1           offmychest  \n",
       "2           offmychest  \n",
       "3  relationship_advice  \n",
       "4           offmychest  "
      ]
     },
     "execution_count": 34,
     "metadata": {},
     "output_type": "execute_result"
    }
   ],
   "source": [
    "# read data from the .csv file\n",
    "df = pd.read_csv('./../dataset/offmychestrelationship_advice.csv')\n",
    "df.head(5)"
   ]
  },
  {
   "cell_type": "code",
   "execution_count": 35,
   "metadata": {},
   "outputs": [
    {
     "data": {
      "text/plain": [
       "(7761, 7)"
      ]
     },
     "execution_count": 35,
     "metadata": {},
     "output_type": "execute_result"
    }
   ],
   "source": [
    "df.shape"
   ]
  },
  {
   "cell_type": "code",
   "execution_count": 36,
   "metadata": {},
   "outputs": [
    {
     "name": "stdout",
     "output_type": "stream",
     "text": [
      "offmychest:  3557\n",
      "relationship_advice: 4204\n"
     ]
    }
   ],
   "source": [
    "print('offmychest: ', sum(df['subreddit'] == 'offmychest'))\n",
    "print('relationship_advice:', sum(df['subreddit'] == 'relationship_advice'))"
   ]
  },
  {
   "cell_type": "code",
   "execution_count": 37,
   "metadata": {},
   "outputs": [
    {
     "data": {
      "text/plain": [
       "text            0\n",
       "title           0\n",
       "listingid       0\n",
       "created         0\n",
       "url             0\n",
       "media        7761\n",
       "subreddit       0\n",
       "dtype: int64"
      ]
     },
     "execution_count": 37,
     "metadata": {},
     "output_type": "execute_result"
    }
   ],
   "source": [
    "df.isna().sum()"
   ]
  },
  {
   "cell_type": "code",
   "execution_count": 38,
   "metadata": {},
   "outputs": [],
   "source": [
    "# let us drop the media column\n",
    "df = df.drop(columns=['media'])"
   ]
  },
  {
   "cell_type": "markdown",
   "metadata": {},
   "source": [
    "### Extract and analyze listing time"
   ]
  },
  {
   "cell_type": "markdown",
   "metadata": {},
   "source": [
    "The 'created' column in our dataset shows shows the time that listing is created. Let us see if there is a relationship between the time and the subreddit. "
   ]
  },
  {
   "cell_type": "code",
   "execution_count": 39,
   "metadata": {},
   "outputs": [
    {
     "data": {
      "text/html": [
       "<div>\n",
       "<style scoped>\n",
       "    .dataframe tbody tr th:only-of-type {\n",
       "        vertical-align: middle;\n",
       "    }\n",
       "\n",
       "    .dataframe tbody tr th {\n",
       "        vertical-align: top;\n",
       "    }\n",
       "\n",
       "    .dataframe thead th {\n",
       "        text-align: right;\n",
       "    }\n",
       "</style>\n",
       "<table border=\"1\" class=\"dataframe\">\n",
       "  <thead>\n",
       "    <tr style=\"text-align: right;\">\n",
       "      <th></th>\n",
       "      <th>text</th>\n",
       "      <th>title</th>\n",
       "      <th>listingid</th>\n",
       "      <th>created</th>\n",
       "      <th>url</th>\n",
       "      <th>subreddit</th>\n",
       "      <th>posting_hr</th>\n",
       "      <th>posting_day</th>\n",
       "    </tr>\n",
       "  </thead>\n",
       "  <tbody>\n",
       "    <tr>\n",
       "      <th>0</th>\n",
       "      <td>\\nI have been with the most loving caring man ...</td>\n",
       "      <td>He(18M) broke up with me(18F) over text and i ...</td>\n",
       "      <td>18s2ejz</td>\n",
       "      <td>1.703689e+09</td>\n",
       "      <td>https://www.reddit.com/r/relationship_advice/c...</td>\n",
       "      <td>relationship_advice</td>\n",
       "      <td>14</td>\n",
       "      <td>2</td>\n",
       "    </tr>\n",
       "  </tbody>\n",
       "</table>\n",
       "</div>"
      ],
      "text/plain": [
       "                                                text  \\\n",
       "0  \\nI have been with the most loving caring man ...   \n",
       "\n",
       "                                               title listingid       created  \\\n",
       "0  He(18M) broke up with me(18F) over text and i ...   18s2ejz  1.703689e+09   \n",
       "\n",
       "                                                 url            subreddit  \\\n",
       "0  https://www.reddit.com/r/relationship_advice/c...  relationship_advice   \n",
       "\n",
       "   posting_hr  posting_day  \n",
       "0          14            2  "
      ]
     },
     "execution_count": 39,
     "metadata": {},
     "output_type": "execute_result"
    }
   ],
   "source": [
    "# convert the created number (in Unix time) to the hour of the day (0-24) and weekday (0-6)\n",
    "# create two additional columns for it.\n",
    "# find the posting hour\n",
    "df['posting_hr'] = df['created'].apply(lambda x: datetime.utcfromtimestamp(x).hour)\n",
    "# find the posting day (day of the week)\n",
    "df['posting_day'] = df['created'].apply(lambda x: datetime.utcfromtimestamp(x).weekday())\n",
    "df.head(1)"
   ]
  },
  {
   "cell_type": "code",
   "execution_count": 76,
   "metadata": {},
   "outputs": [
    {
     "data": {
      "image/png": "[encoded data removed]",
      "text/plain": [
       "<Figure size 1500x600 with 2 Axes>"
      ]
     },
     "metadata": {},
     "output_type": "display_data"
    }
   ],
   "source": [
    "# let us plot the value counts for the hour of the day at which each posting is posted\n",
    "#plt.figure(figsize=(8,8))\n",
    "fig, ax = plt.subplots(1, 2, figsize=(15, 6))\n",
    "\n",
    "# plot 1\n",
    "sns.countplot(data=df[df['subreddit'] == 'offmychest'], x='posting_hr', color='skyblue', ax=ax[0])\n",
    "ax[0].set_title('r/offmychest', size=20)\n",
    "ax[0].set_xlabel(\"Listing time (24 hrs)\", fontsize=15)\n",
    "ax[0].set_ylabel(\"Count\", fontsize=15)\n",
    "\n",
    "# plot 2\n",
    "sns.countplot(data=df[df['subreddit'] == 'relationship_advice'], x='posting_hr', color='olive', ax=ax[1])\n",
    "ax[1].set_title('r/relationship_advice', size=20)\n",
    "ax[1].set_xlabel(\"Listing time (24 hrs)\", fontsize=15)\n",
    "ax[1].set_ylabel(\"Count\", fontsize=15)\n",
    "\n",
    "for ax in ax:\n",
    "    ax.tick_params(axis='x', labelsize=12)\n",
    "    ax.tick_params(axis='y', labelsize=12)\n",
    "\n",
    "#plt.tight_layout()"
   ]
  },
  {
   "cell_type": "markdown",
   "metadata": {},
   "source": [
    "Looking at the overall trend of the number of listing vs listing time, we can say both of the subreddits follow a similar trend and there is not much to separate them here. Also, it should be noted that this data is been collected in a span of a week and such a short time will not be the best representative of the time. For the same reason, we did not use the day of the week data we extracted from the columns. "
   ]
  },
  {
   "cell_type": "markdown",
   "metadata": {},
   "source": [
    "### Count the number of words"
   ]
  },
  {
   "cell_type": "code",
   "execution_count": 87,
   "metadata": {},
   "outputs": [
    {
     "data": {
      "text/html": [
       "<div>\n",
       "<style scoped>\n",
       "    .dataframe tbody tr th:only-of-type {\n",
       "        vertical-align: middle;\n",
       "    }\n",
       "\n",
       "    .dataframe tbody tr th {\n",
       "        vertical-align: top;\n",
       "    }\n",
       "\n",
       "    .dataframe thead th {\n",
       "        text-align: right;\n",
       "    }\n",
       "</style>\n",
       "<table border=\"1\" class=\"dataframe\">\n",
       "  <thead>\n",
       "    <tr style=\"text-align: right;\">\n",
       "      <th></th>\n",
       "      <th>text</th>\n",
       "      <th>title</th>\n",
       "      <th>listingid</th>\n",
       "      <th>created</th>\n",
       "      <th>url</th>\n",
       "      <th>subreddit</th>\n",
       "      <th>posting_hr</th>\n",
       "      <th>posting_day</th>\n",
       "      <th>count_text</th>\n",
       "      <th>count_title</th>\n",
       "    </tr>\n",
       "  </thead>\n",
       "  <tbody>\n",
       "    <tr>\n",
       "      <th>0</th>\n",
       "      <td>\\nI have been with the most loving caring man ...</td>\n",
       "      <td>He(18M) broke up with me(18F) over text and i ...</td>\n",
       "      <td>18s2ejz</td>\n",
       "      <td>1.703689e+09</td>\n",
       "      <td>https://www.reddit.com/r/relationship_advice/c...</td>\n",
       "      <td>relationship_advice</td>\n",
       "      <td>14</td>\n",
       "      <td>2</td>\n",
       "      <td>616</td>\n",
       "      <td>15</td>\n",
       "    </tr>\n",
       "    <tr>\n",
       "      <th>1</th>\n",
       "      <td>i’ll get the frick over it though. i am strong...</td>\n",
       "      <td>pretty sure i’m going through a mild depression</td>\n",
       "      <td>18q4ehr</td>\n",
       "      <td>1.703454e+09</td>\n",
       "      <td>https://www.reddit.com/r/offmychest/comments/1...</td>\n",
       "      <td>offmychest</td>\n",
       "      <td>21</td>\n",
       "      <td>6</td>\n",
       "      <td>79</td>\n",
       "      <td>6</td>\n",
       "    </tr>\n",
       "    <tr>\n",
       "      <th>2</th>\n",
       "      <td>Just to note there is discussion on sensitive ...</td>\n",
       "      <td>I’m becoming all the things in my past I’ve gr...</td>\n",
       "      <td>18mvf1c</td>\n",
       "      <td>1.703081e+09</td>\n",
       "      <td>https://www.reddit.com/r/offmychest/comments/1...</td>\n",
       "      <td>offmychest</td>\n",
       "      <td>14</td>\n",
       "      <td>2</td>\n",
       "      <td>282</td>\n",
       "      <td>11</td>\n",
       "    </tr>\n",
       "    <tr>\n",
       "      <th>3</th>\n",
       "      <td>35F - 59M - Pregnancy after prostate cancer.\\n...</td>\n",
       "      <td>Pregnancy after prostate cancer. 35F - 59M.</td>\n",
       "      <td>18rb1aj</td>\n",
       "      <td>1.703606e+09</td>\n",
       "      <td>https://www.reddit.com/r/relationship_advice/c...</td>\n",
       "      <td>relationship_advice</td>\n",
       "      <td>15</td>\n",
       "      <td>1</td>\n",
       "      <td>429</td>\n",
       "      <td>6</td>\n",
       "    </tr>\n",
       "    <tr>\n",
       "      <th>4</th>\n",
       "      <td>I met a girl name “A” on Yubo About August 18,...</td>\n",
       "      <td>I miss you.</td>\n",
       "      <td>18njdi3</td>\n",
       "      <td>1.703152e+09</td>\n",
       "      <td>https://www.reddit.com/r/offmychest/comments/1...</td>\n",
       "      <td>offmychest</td>\n",
       "      <td>9</td>\n",
       "      <td>3</td>\n",
       "      <td>1142</td>\n",
       "      <td>2</td>\n",
       "    </tr>\n",
       "  </tbody>\n",
       "</table>\n",
       "</div>"
      ],
      "text/plain": [
       "                                                text  \\\n",
       "0  \\nI have been with the most loving caring man ...   \n",
       "1  i’ll get the frick over it though. i am strong...   \n",
       "2  Just to note there is discussion on sensitive ...   \n",
       "3  35F - 59M - Pregnancy after prostate cancer.\\n...   \n",
       "4  I met a girl name “A” on Yubo About August 18,...   \n",
       "\n",
       "                                               title listingid       created  \\\n",
       "0  He(18M) broke up with me(18F) over text and i ...   18s2ejz  1.703689e+09   \n",
       "1    pretty sure i’m going through a mild depression   18q4ehr  1.703454e+09   \n",
       "2  I’m becoming all the things in my past I’ve gr...   18mvf1c  1.703081e+09   \n",
       "3        Pregnancy after prostate cancer. 35F - 59M.   18rb1aj  1.703606e+09   \n",
       "4                                        I miss you.   18njdi3  1.703152e+09   \n",
       "\n",
       "                                                 url            subreddit  \\\n",
       "0  https://www.reddit.com/r/relationship_advice/c...  relationship_advice   \n",
       "1  https://www.reddit.com/r/offmychest/comments/1...           offmychest   \n",
       "2  https://www.reddit.com/r/offmychest/comments/1...           offmychest   \n",
       "3  https://www.reddit.com/r/relationship_advice/c...  relationship_advice   \n",
       "4  https://www.reddit.com/r/offmychest/comments/1...           offmychest   \n",
       "\n",
       "   posting_hr  posting_day  count_text  count_title  \n",
       "0          14            2         616           15  \n",
       "1          21            6          79            6  \n",
       "2          14            2         282           11  \n",
       "3          15            1         429            6  \n",
       "4           9            3        1142            2  "
      ]
     },
     "execution_count": 87,
     "metadata": {},
     "output_type": "execute_result"
    }
   ],
   "source": [
    "# create new columns with the number of words in text and titles\n",
    "df['count_text'] = df['text'].apply(lambda x: len(re.findall(r'(?u)\\b\\w\\w+\\b', x)))\n",
    "df['count_title'] = df['title'].apply(lambda x: len(re.findall(r'(?u)\\b\\w\\w+\\b', x)))\n",
    "df.head(5)"
   ]
  },
  {
   "cell_type": "code",
   "execution_count": 89,
   "metadata": {},
   "outputs": [
    {
     "name": "stderr",
     "output_type": "stream",
     "text": [
      "C:\\Users\\masou\\AppData\\Local\\Temp\\ipykernel_17424\\2696699415.py:2: FutureWarning: The default value of numeric_only in DataFrameGroupBy.mean is deprecated. In a future version, numeric_only will default to False. Either specify numeric_only or select only columns which should be valid for the function.\n",
      "  df.groupby('subreddit').mean()[['count_text', 'count_title']]\n"
     ]
    },
    {
     "data": {
      "text/html": [
       "<div>\n",
       "<style scoped>\n",
       "    .dataframe tbody tr th:only-of-type {\n",
       "        vertical-align: middle;\n",
       "    }\n",
       "\n",
       "    .dataframe tbody tr th {\n",
       "        vertical-align: top;\n",
       "    }\n",
       "\n",
       "    .dataframe thead th {\n",
       "        text-align: right;\n",
       "    }\n",
       "</style>\n",
       "<table border=\"1\" class=\"dataframe\">\n",
       "  <thead>\n",
       "    <tr style=\"text-align: right;\">\n",
       "      <th></th>\n",
       "      <th>count_text</th>\n",
       "      <th>count_title</th>\n",
       "    </tr>\n",
       "    <tr>\n",
       "      <th>subreddit</th>\n",
       "      <th></th>\n",
       "      <th></th>\n",
       "    </tr>\n",
       "  </thead>\n",
       "  <tbody>\n",
       "    <tr>\n",
       "      <th>offmychest</th>\n",
       "      <td>291.441664</td>\n",
       "      <td>8.046669</td>\n",
       "    </tr>\n",
       "    <tr>\n",
       "      <th>relationship_advice</th>\n",
       "      <td>388.002379</td>\n",
       "      <td>14.124881</td>\n",
       "    </tr>\n",
       "  </tbody>\n",
       "</table>\n",
       "</div>"
      ],
      "text/plain": [
       "                     count_text  count_title\n",
       "subreddit                                   \n",
       "offmychest           291.441664     8.046669\n",
       "relationship_advice  388.002379    14.124881"
      ]
     },
     "execution_count": 89,
     "metadata": {},
     "output_type": "execute_result"
    }
   ],
   "source": [
    "# average number of words in text and title for different categories\n",
    "df.groupby('subreddit').mean()[['count_text', 'count_title']]"
   ]
  },
  {
   "cell_type": "code",
   "execution_count": 94,
   "metadata": {},
   "outputs": [
    {
     "data": {
      "text/html": [
       "<div>\n",
       "<style scoped>\n",
       "    .dataframe tbody tr th:only-of-type {\n",
       "        vertical-align: middle;\n",
       "    }\n",
       "\n",
       "    .dataframe tbody tr th {\n",
       "        vertical-align: top;\n",
       "    }\n",
       "\n",
       "    .dataframe thead tr th {\n",
       "        text-align: left;\n",
       "    }\n",
       "</style>\n",
       "<table border=\"1\" class=\"dataframe\">\n",
       "  <thead>\n",
       "    <tr>\n",
       "      <th></th>\n",
       "      <th>subreddit</th>\n",
       "      <th colspan=\"3\" halign=\"left\">count_text</th>\n",
       "      <th colspan=\"3\" halign=\"left\">count_title</th>\n",
       "    </tr>\n",
       "    <tr>\n",
       "      <th></th>\n",
       "      <th></th>\n",
       "      <th>min</th>\n",
       "      <th>max</th>\n",
       "      <th>mean</th>\n",
       "      <th>min</th>\n",
       "      <th>max</th>\n",
       "      <th>mean</th>\n",
       "    </tr>\n",
       "  </thead>\n",
       "  <tbody>\n",
       "    <tr>\n",
       "      <th>0</th>\n",
       "      <td>offmychest</td>\n",
       "      <td>1</td>\n",
       "      <td>3574</td>\n",
       "      <td>291.441664</td>\n",
       "      <td>1</td>\n",
       "      <td>52</td>\n",
       "      <td>8.046669</td>\n",
       "    </tr>\n",
       "    <tr>\n",
       "      <th>1</th>\n",
       "      <td>relationship_advice</td>\n",
       "      <td>0</td>\n",
       "      <td>3676</td>\n",
       "      <td>388.002379</td>\n",
       "      <td>2</td>\n",
       "      <td>62</td>\n",
       "      <td>14.124881</td>\n",
       "    </tr>\n",
       "  </tbody>\n",
       "</table>\n",
       "</div>"
      ],
      "text/plain": [
       "             subreddit count_text                   count_title               \n",
       "                              min   max        mean         min max       mean\n",
       "0           offmychest          1  3574  291.441664           1  52   8.046669\n",
       "1  relationship_advice          0  3676  388.002379           2  62  14.124881"
      ]
     },
     "execution_count": 94,
     "metadata": {},
     "output_type": "execute_result"
    }
   ],
   "source": [
    "#df[['count_text', 'count_title']].describe()\n",
    "df.groupby(['subreddit'], as_index=False).agg({'count_text':['min', 'max','mean'],'count_title':['min', 'max','mean']})"
   ]
  },
  {
   "cell_type": "markdown",
   "metadata": {},
   "source": [
    "As we can see, the number of words in the body of text and also the title for the relationship_advice subreddit is almost 25% larger than that of the offmychest subreddit. The same trend is observed for the title count. Now, let us plot distribution of the number of words for each of the subreddits. "
   ]
  },
  {
   "cell_type": "code",
   "execution_count": 113,
   "metadata": {},
   "outputs": [
    {
     "data": {
      "image/png": "[encoded data removed]",
      "text/plain": [
       "<Figure size 1600x600 with 2 Axes>"
      ]
     },
     "metadata": {},
     "output_type": "display_data"
    }
   ],
   "source": [
    "# distribution of the words for each of the subreddits, in the text and title of the listings. \n",
    "fig, axs = plt.subplots(1,2, figsize=(16,6))\n",
    "sns.histplot(data=df, x='count_text', hue='subreddit', ax=axs[0])\n",
    "axs[0].legend(['offmychest', 'relationship_advice'])\n",
    "axs[0].set_title('word counts in text', size=17)\n",
    "axs[0].set_xlim([0, 1000])\n",
    "\n",
    "sns.histplot(data=df, x='count_title', hue='subreddit', ax=axs[1])\n",
    "axs[1].legend(['offmychest', 'relationship_advice'])\n",
    "axs[1].set_title('word counts in title', size=17)\n",
    "axs[1].set_xlim([0, 40]);"
   ]
  },
  {
   "cell_type": "markdown",
   "metadata": {},
   "source": [
    "The distribution graphs also show that the words count in both title and text of the postings in the relationship advice subreddit is more than that of the offmychest subreddit. This features can be used later to help categorize our listings. "
   ]
  },
  {
   "cell_type": "markdown",
   "metadata": {},
   "source": [
    "### Word analysis with CountVectorizer"
   ]
  },
  {
   "cell_type": "markdown",
   "metadata": {},
   "source": [
    "In this section, we will try to analyze the words in each of the subreddit listings and see what sort of information can we extract from it. "
   ]
  },
  {
   "cell_type": "code",
   "execution_count": null,
   "metadata": {},
   "outputs": [],
   "source": []
  }
 ],
 "metadata": {
  "kernelspec": {
   "display_name": "base",
   "language": "python",
   "name": "python3"
  },
  "language_info": {
   "codemirror_mode": {
    "name": "ipython",
    "version": 3
   },
   "file_extension": ".py",
   "mimetype": "text/x-python",
   "name": "python",
   "nbconvert_exporter": "python",
   "pygments_lexer": "ipython3",
   "version": "3.11.4"
  }
 },
 "nbformat": 4,
 "nbformat_minor": 2
}
