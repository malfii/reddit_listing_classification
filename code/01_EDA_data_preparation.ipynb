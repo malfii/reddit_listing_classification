{
 "cells": [
  {
   "cell_type": "markdown",
   "metadata": {},
   "source": [
    "# EDA and data preparation\n",
    "This file includes the following parts: \n",
    "- Choose what subreddits will be used for our analysis (we will use 2 or 4 depending on time and scope of the project).\n",
    "- Create the appropriate dataset by combining the data from the desired subreddits of interest.\n",
    "- Start EDA on the dataset of interest and observe any possible trends/relations/clues.\n",
    "- Summarize the findings and recommendations to be used for the modeling part.\n",
    "- Repeat the same process in case other subreddits are intended to be investigated."
   ]
  },
  {
   "cell_type": "code",
   "execution_count": 1,
   "metadata": {},
   "outputs": [],
   "source": [
    "\n",
    "# imports\n",
    "import pandas as pd\n",
    "import numpy as np \n",
    "import matplotlib.pyplot as plt \n",
    "import seaborn as sns \n",
    "\n",
    "import os # to check for file existance\n",
    "\n",
    "# for time conversion\n",
    "from datetime import datetime\n",
    "import re   # for regex\n",
    "# for sentiment analysis\n",
    "from nltk.sentiment.vader import SentimentIntensityAnalyzer\n",
    "# countvectorizer\n",
    "from sklearn.feature_extraction.text import CountVectorizer"
   ]
  },
  {
   "cell_type": "markdown",
   "metadata": {},
   "source": [
    "## 'offmychest' and 'relationship_advice' subreddits\n",
    "---\n",
    "In this section, we have investigated two subreddits and tried to see if we can observe any interesting points by doing EDA. The two subreddits of interest are r/offmychest and r/relationship_advice. Both subreddits have a relatively high number of listings per day so this will give us enough information to investigate on. offmychest subreddit mostly contains listings about personal issues, emotional hardships, life problems, and also issues in peoples relationships. The subreddit usually does have a sad tone because people use it as a way to express their feelings, unburden some thoughts, or to confess about things. relationship_advice subreddit focuses more on relationships and the ups and downs in it. <br>\n",
    "The reasons these two subreddits were used for our investigation is that while these two subreddits represent two topics that could be distinguishable from each other, they do have common points that could make the classification process challenging. Although offmychest includes a wide variety of subjects, it often includes topics which are related to relationship and the problems around it. This overlap can cause our model to struggle since we are mainly relying on the words that used in each listing and having a similar context in both subreddits results in the use of similar vocabularies. \n"
   ]
  },
  {
   "cell_type": "markdown",
   "metadata": {},
   "source": [
    "### combining data from different subreddits if needed"
   ]
  },
  {
   "cell_type": "markdown",
   "metadata": {},
   "source": [
    "Read the raw data from the two related csv files. Then combine them together, shuffle, and create  a new csv file. Only create the new csv file if there is not already a .csv file. This makes sure that the current data will not be accidentally overwritten. If the user wants to use new raw .csv files from new data scraping, they will have to delete offmychest-relationship_advice.csv file."
   ]
  },
  {
   "cell_type": "code",
   "execution_count": 2,
   "metadata": {},
   "outputs": [
    {
     "name": "stdout",
     "output_type": "stream",
     "text": [
      "===> creating a new .csv file by merging and shuffling data from offmychest.csv and relationship_advice.csv\n"
     ]
    }
   ],
   "source": [
    "# created the necessary file if not already created by mixing two related data\n",
    "subred1 = 'offmychest'\n",
    "subred2 = 'relationship_advice'\n",
    "path = './../dataset/'\n",
    "\n",
    "if not os.path.isfile(path+subred1+subred2+'.csv'):\n",
    "\n",
    "    df1 = pd.read_csv(path+subred1+'.csv')\n",
    "    df1['subreddit'] = subred1\n",
    "    df2 = pd.read_csv(path+subred2+'.csv')\n",
    "    df2['subreddit'] = subred2\n",
    "    df = pd.concat([df1, df2], axis=0)\n",
    "    df = df.sample(frac=1)  # shuffle the rows\n",
    "    print(f'===> creating a new .csv file by merging and shuffling data from {subred1}.csv and {subred2}.csv')\n",
    "    df.to_csv(path+subred1+subred2+'.csv', index=False)\n",
    "else:\n",
    "    print(f'+++> no new file is generated for these data as {subred1+subred2}.csv file already exists')\n"
   ]
  },
  {
   "cell_type": "markdown",
   "metadata": {},
   "source": [
    "In this dataset, the columns represent the followings:\n",
    "- 'text': shows the body text of the listing (listing in this document means the reddit post)\n",
    "- 'title': shows the title of the listing\n",
    "- 'listingid': shows the unique id of that listing\n",
    "- 'created': time (utc) for when the listing is created\n",
    "- 'url': the url related to that listing\n",
    "- 'media': media related to the listing\n",
    "- 'subreddit': the name of the subreddit the listing belongs to"
   ]
  },
  {
   "cell_type": "code",
   "execution_count": 225,
   "metadata": {},
   "outputs": [
    {
     "data": {
      "text/html": [
       "<div>\n",
       "<style scoped>\n",
       "    .dataframe tbody tr th:only-of-type {\n",
       "        vertical-align: middle;\n",
       "    }\n",
       "\n",
       "    .dataframe tbody tr th {\n",
       "        vertical-align: top;\n",
       "    }\n",
       "\n",
       "    .dataframe thead th {\n",
       "        text-align: right;\n",
       "    }\n",
       "</style>\n",
       "<table border=\"1\" class=\"dataframe\">\n",
       "  <thead>\n",
       "    <tr style=\"text-align: right;\">\n",
       "      <th></th>\n",
       "      <th>text</th>\n",
       "      <th>title</th>\n",
       "      <th>listingid</th>\n",
       "      <th>created</th>\n",
       "      <th>url</th>\n",
       "      <th>media</th>\n",
       "      <th>subreddit</th>\n",
       "    </tr>\n",
       "  </thead>\n",
       "  <tbody>\n",
       "    <tr>\n",
       "      <th>0</th>\n",
       "      <td>\\nI have been with the most loving caring man ...</td>\n",
       "      <td>He(18M) broke up with me(18F) over text and i ...</td>\n",
       "      <td>18s2ejz</td>\n",
       "      <td>1.703689e+09</td>\n",
       "      <td>https://www.reddit.com/r/relationship_advice/c...</td>\n",
       "      <td>NaN</td>\n",
       "      <td>relationship_advice</td>\n",
       "    </tr>\n",
       "    <tr>\n",
       "      <th>1</th>\n",
       "      <td>i’ll get the frick over it though. i am strong...</td>\n",
       "      <td>pretty sure i’m going through a mild depression</td>\n",
       "      <td>18q4ehr</td>\n",
       "      <td>1.703454e+09</td>\n",
       "      <td>https://www.reddit.com/r/offmychest/comments/1...</td>\n",
       "      <td>NaN</td>\n",
       "      <td>offmychest</td>\n",
       "    </tr>\n",
       "    <tr>\n",
       "      <th>2</th>\n",
       "      <td>Just to note there is discussion on sensitive ...</td>\n",
       "      <td>I’m becoming all the things in my past I’ve gr...</td>\n",
       "      <td>18mvf1c</td>\n",
       "      <td>1.703081e+09</td>\n",
       "      <td>https://www.reddit.com/r/offmychest/comments/1...</td>\n",
       "      <td>NaN</td>\n",
       "      <td>offmychest</td>\n",
       "    </tr>\n",
       "    <tr>\n",
       "      <th>3</th>\n",
       "      <td>35F - 59M - Pregnancy after prostate cancer.\\n...</td>\n",
       "      <td>Pregnancy after prostate cancer. 35F - 59M.</td>\n",
       "      <td>18rb1aj</td>\n",
       "      <td>1.703606e+09</td>\n",
       "      <td>https://www.reddit.com/r/relationship_advice/c...</td>\n",
       "      <td>NaN</td>\n",
       "      <td>relationship_advice</td>\n",
       "    </tr>\n",
       "    <tr>\n",
       "      <th>4</th>\n",
       "      <td>I met a girl name “A” on Yubo About August 18,...</td>\n",
       "      <td>I miss you.</td>\n",
       "      <td>18njdi3</td>\n",
       "      <td>1.703152e+09</td>\n",
       "      <td>https://www.reddit.com/r/offmychest/comments/1...</td>\n",
       "      <td>NaN</td>\n",
       "      <td>offmychest</td>\n",
       "    </tr>\n",
       "  </tbody>\n",
       "</table>\n",
       "</div>"
      ],
      "text/plain": [
       "                                                text  \\\n",
       "0  \\nI have been with the most loving caring man ...   \n",
       "1  i’ll get the frick over it though. i am strong...   \n",
       "2  Just to note there is discussion on sensitive ...   \n",
       "3  35F - 59M - Pregnancy after prostate cancer.\\n...   \n",
       "4  I met a girl name “A” on Yubo About August 18,...   \n",
       "\n",
       "                                               title listingid       created  \\\n",
       "0  He(18M) broke up with me(18F) over text and i ...   18s2ejz  1.703689e+09   \n",
       "1    pretty sure i’m going through a mild depression   18q4ehr  1.703454e+09   \n",
       "2  I’m becoming all the things in my past I’ve gr...   18mvf1c  1.703081e+09   \n",
       "3        Pregnancy after prostate cancer. 35F - 59M.   18rb1aj  1.703606e+09   \n",
       "4                                        I miss you.   18njdi3  1.703152e+09   \n",
       "\n",
       "                                                 url  media  \\\n",
       "0  https://www.reddit.com/r/relationship_advice/c...    NaN   \n",
       "1  https://www.reddit.com/r/offmychest/comments/1...    NaN   \n",
       "2  https://www.reddit.com/r/offmychest/comments/1...    NaN   \n",
       "3  https://www.reddit.com/r/relationship_advice/c...    NaN   \n",
       "4  https://www.reddit.com/r/offmychest/comments/1...    NaN   \n",
       "\n",
       "             subreddit  \n",
       "0  relationship_advice  \n",
       "1           offmychest  \n",
       "2           offmychest  \n",
       "3  relationship_advice  \n",
       "4           offmychest  "
      ]
     },
     "execution_count": 225,
     "metadata": {},
     "output_type": "execute_result"
    }
   ],
   "source": [
    "# read data from the .csv file\n",
    "df = pd.read_csv('./../dataset/offmychestrelationship_advice.csv')\n",
    "df.head(5)"
   ]
  },
  {
   "cell_type": "code",
   "execution_count": 226,
   "metadata": {},
   "outputs": [
    {
     "data": {
      "text/plain": [
       "(7761, 7)"
      ]
     },
     "execution_count": 226,
     "metadata": {},
     "output_type": "execute_result"
    }
   ],
   "source": [
    "df.shape"
   ]
  },
  {
   "cell_type": "code",
   "execution_count": 227,
   "metadata": {},
   "outputs": [
    {
     "name": "stdout",
     "output_type": "stream",
     "text": [
      "offmychest:  3557\n",
      "relationship_advice: 4204\n"
     ]
    }
   ],
   "source": [
    "print('offmychest: ', sum(df['subreddit'] == 'offmychest'))\n",
    "print('relationship_advice:', sum(df['subreddit'] == 'relationship_advice'))"
   ]
  },
  {
   "cell_type": "code",
   "execution_count": 228,
   "metadata": {},
   "outputs": [
    {
     "data": {
      "text/plain": [
       "text            0\n",
       "title           0\n",
       "listingid       0\n",
       "created         0\n",
       "url             0\n",
       "media        7761\n",
       "subreddit       0\n",
       "dtype: int64"
      ]
     },
     "execution_count": 228,
     "metadata": {},
     "output_type": "execute_result"
    }
   ],
   "source": [
    "df.isna().sum()"
   ]
  },
  {
   "cell_type": "code",
   "execution_count": 229,
   "metadata": {},
   "outputs": [],
   "source": [
    "# let us drop the media column\n",
    "df = df.drop(columns=['media'])"
   ]
  },
  {
   "cell_type": "markdown",
   "metadata": {},
   "source": [
    "### Extract and analyze listing time"
   ]
  },
  {
   "cell_type": "markdown",
   "metadata": {},
   "source": [
    "The 'created' column in our dataset shows shows the time that listing is created. Let us see if there is a relationship between the time and the subreddit. "
   ]
  },
  {
   "cell_type": "code",
   "execution_count": 230,
   "metadata": {},
   "outputs": [
    {
     "data": {
      "text/html": [
       "<div>\n",
       "<style scoped>\n",
       "    .dataframe tbody tr th:only-of-type {\n",
       "        vertical-align: middle;\n",
       "    }\n",
       "\n",
       "    .dataframe tbody tr th {\n",
       "        vertical-align: top;\n",
       "    }\n",
       "\n",
       "    .dataframe thead th {\n",
       "        text-align: right;\n",
       "    }\n",
       "</style>\n",
       "<table border=\"1\" class=\"dataframe\">\n",
       "  <thead>\n",
       "    <tr style=\"text-align: right;\">\n",
       "      <th></th>\n",
       "      <th>text</th>\n",
       "      <th>title</th>\n",
       "      <th>listingid</th>\n",
       "      <th>created</th>\n",
       "      <th>url</th>\n",
       "      <th>subreddit</th>\n",
       "      <th>posting_hr</th>\n",
       "      <th>posting_day</th>\n",
       "    </tr>\n",
       "  </thead>\n",
       "  <tbody>\n",
       "    <tr>\n",
       "      <th>0</th>\n",
       "      <td>\\nI have been with the most loving caring man ...</td>\n",
       "      <td>He(18M) broke up with me(18F) over text and i ...</td>\n",
       "      <td>18s2ejz</td>\n",
       "      <td>1.703689e+09</td>\n",
       "      <td>https://www.reddit.com/r/relationship_advice/c...</td>\n",
       "      <td>relationship_advice</td>\n",
       "      <td>14</td>\n",
       "      <td>2</td>\n",
       "    </tr>\n",
       "  </tbody>\n",
       "</table>\n",
       "</div>"
      ],
      "text/plain": [
       "                                                text  \\\n",
       "0  \\nI have been with the most loving caring man ...   \n",
       "\n",
       "                                               title listingid       created  \\\n",
       "0  He(18M) broke up with me(18F) over text and i ...   18s2ejz  1.703689e+09   \n",
       "\n",
       "                                                 url            subreddit  \\\n",
       "0  https://www.reddit.com/r/relationship_advice/c...  relationship_advice   \n",
       "\n",
       "   posting_hr  posting_day  \n",
       "0          14            2  "
      ]
     },
     "execution_count": 230,
     "metadata": {},
     "output_type": "execute_result"
    }
   ],
   "source": [
    "# convert the created number (in Unix time) to the hour of the day (0-24) and weekday (0-6)\n",
    "# create two additional columns for it.\n",
    "# find the posting hour\n",
    "df['posting_hr'] = df['created'].apply(lambda x: datetime.utcfromtimestamp(x).hour)\n",
    "# find the posting day (day of the week)\n",
    "df['posting_day'] = df['created'].apply(lambda x: datetime.utcfromtimestamp(x).weekday())\n",
    "df.head(1)"
   ]
  },
  {
   "cell_type": "code",
   "execution_count": 231,
   "metadata": {},
   "outputs": [
    {
     "data": {
      "image/png": "[encoded data removed]",
      "text/plain": [
       "<Figure size 1500x600 with 2 Axes>"
      ]
     },
     "metadata": {},
     "output_type": "display_data"
    }
   ],
   "source": [
    "# let us plot the value counts for the hour of the day at which each posting is posted\n",
    "#plt.figure(figsize=(8,8))\n",
    "fig, ax = plt.subplots(1, 2, figsize=(15, 6))\n",
    "\n",
    "# plot 1\n",
    "sns.countplot(data=df[df['subreddit'] == 'offmychest'], x='posting_hr', color='skyblue', ax=ax[0])\n",
    "ax[0].set_title('r/offmychest', size=20)\n",
    "ax[0].set_xlabel(\"Listing time (24 hrs)\", fontsize=15)\n",
    "ax[0].set_ylabel(\"Count\", fontsize=15)\n",
    "\n",
    "# plot 2\n",
    "sns.countplot(data=df[df['subreddit'] == 'relationship_advice'], x='posting_hr', color='olive', ax=ax[1])\n",
    "ax[1].set_title('r/relationship_advice', size=20)\n",
    "ax[1].set_xlabel(\"Listing time (24 hrs)\", fontsize=15)\n",
    "ax[1].set_ylabel(\"Count\", fontsize=15)\n",
    "\n",
    "for ax in ax:\n",
    "    ax.tick_params(axis='x', labelsize=12)\n",
    "    ax.tick_params(axis='y', labelsize=12)\n",
    "\n",
    "#plt.tight_layout()"
   ]
  },
  {
   "cell_type": "markdown",
   "metadata": {},
   "source": [
    "Looking at the overall trend of the number of listing vs listing time, we can say both of the subreddits follow a similar trend and there is not much to separate them here. Also, it should be noted that this data is been collected in a span of a week and such a short time will not be the best representative of the time. For the same reason, we did not use the day of the week data we extracted from the columns. "
   ]
  },
  {
   "cell_type": "markdown",
   "metadata": {},
   "source": [
    "### Count the number of words"
   ]
  },
  {
   "cell_type": "code",
   "execution_count": 232,
   "metadata": {},
   "outputs": [
    {
     "data": {
      "text/html": [
       "<div>\n",
       "<style scoped>\n",
       "    .dataframe tbody tr th:only-of-type {\n",
       "        vertical-align: middle;\n",
       "    }\n",
       "\n",
       "    .dataframe tbody tr th {\n",
       "        vertical-align: top;\n",
       "    }\n",
       "\n",
       "    .dataframe thead th {\n",
       "        text-align: right;\n",
       "    }\n",
       "</style>\n",
       "<table border=\"1\" class=\"dataframe\">\n",
       "  <thead>\n",
       "    <tr style=\"text-align: right;\">\n",
       "      <th></th>\n",
       "      <th>text</th>\n",
       "      <th>title</th>\n",
       "      <th>listingid</th>\n",
       "      <th>created</th>\n",
       "      <th>url</th>\n",
       "      <th>subreddit</th>\n",
       "      <th>posting_hr</th>\n",
       "      <th>posting_day</th>\n",
       "      <th>count_text</th>\n",
       "      <th>count_title</th>\n",
       "    </tr>\n",
       "  </thead>\n",
       "  <tbody>\n",
       "    <tr>\n",
       "      <th>0</th>\n",
       "      <td>\\nI have been with the most loving caring man ...</td>\n",
       "      <td>He(18M) broke up with me(18F) over text and i ...</td>\n",
       "      <td>18s2ejz</td>\n",
       "      <td>1.703689e+09</td>\n",
       "      <td>https://www.reddit.com/r/relationship_advice/c...</td>\n",
       "      <td>relationship_advice</td>\n",
       "      <td>14</td>\n",
       "      <td>2</td>\n",
       "      <td>616</td>\n",
       "      <td>15</td>\n",
       "    </tr>\n",
       "    <tr>\n",
       "      <th>1</th>\n",
       "      <td>i’ll get the frick over it though. i am strong...</td>\n",
       "      <td>pretty sure i’m going through a mild depression</td>\n",
       "      <td>18q4ehr</td>\n",
       "      <td>1.703454e+09</td>\n",
       "      <td>https://www.reddit.com/r/offmychest/comments/1...</td>\n",
       "      <td>offmychest</td>\n",
       "      <td>21</td>\n",
       "      <td>6</td>\n",
       "      <td>79</td>\n",
       "      <td>6</td>\n",
       "    </tr>\n",
       "    <tr>\n",
       "      <th>2</th>\n",
       "      <td>Just to note there is discussion on sensitive ...</td>\n",
       "      <td>I’m becoming all the things in my past I’ve gr...</td>\n",
       "      <td>18mvf1c</td>\n",
       "      <td>1.703081e+09</td>\n",
       "      <td>https://www.reddit.com/r/offmychest/comments/1...</td>\n",
       "      <td>offmychest</td>\n",
       "      <td>14</td>\n",
       "      <td>2</td>\n",
       "      <td>282</td>\n",
       "      <td>11</td>\n",
       "    </tr>\n",
       "    <tr>\n",
       "      <th>3</th>\n",
       "      <td>35F - 59M - Pregnancy after prostate cancer.\\n...</td>\n",
       "      <td>Pregnancy after prostate cancer. 35F - 59M.</td>\n",
       "      <td>18rb1aj</td>\n",
       "      <td>1.703606e+09</td>\n",
       "      <td>https://www.reddit.com/r/relationship_advice/c...</td>\n",
       "      <td>relationship_advice</td>\n",
       "      <td>15</td>\n",
       "      <td>1</td>\n",
       "      <td>429</td>\n",
       "      <td>6</td>\n",
       "    </tr>\n",
       "    <tr>\n",
       "      <th>4</th>\n",
       "      <td>I met a girl name “A” on Yubo About August 18,...</td>\n",
       "      <td>I miss you.</td>\n",
       "      <td>18njdi3</td>\n",
       "      <td>1.703152e+09</td>\n",
       "      <td>https://www.reddit.com/r/offmychest/comments/1...</td>\n",
       "      <td>offmychest</td>\n",
       "      <td>9</td>\n",
       "      <td>3</td>\n",
       "      <td>1142</td>\n",
       "      <td>2</td>\n",
       "    </tr>\n",
       "  </tbody>\n",
       "</table>\n",
       "</div>"
      ],
      "text/plain": [
       "                                                text  \\\n",
       "0  \\nI have been with the most loving caring man ...   \n",
       "1  i’ll get the frick over it though. i am strong...   \n",
       "2  Just to note there is discussion on sensitive ...   \n",
       "3  35F - 59M - Pregnancy after prostate cancer.\\n...   \n",
       "4  I met a girl name “A” on Yubo About August 18,...   \n",
       "\n",
       "                                               title listingid       created  \\\n",
       "0  He(18M) broke up with me(18F) over text and i ...   18s2ejz  1.703689e+09   \n",
       "1    pretty sure i’m going through a mild depression   18q4ehr  1.703454e+09   \n",
       "2  I’m becoming all the things in my past I’ve gr...   18mvf1c  1.703081e+09   \n",
       "3        Pregnancy after prostate cancer. 35F - 59M.   18rb1aj  1.703606e+09   \n",
       "4                                        I miss you.   18njdi3  1.703152e+09   \n",
       "\n",
       "                                                 url            subreddit  \\\n",
       "0  https://www.reddit.com/r/relationship_advice/c...  relationship_advice   \n",
       "1  https://www.reddit.com/r/offmychest/comments/1...           offmychest   \n",
       "2  https://www.reddit.com/r/offmychest/comments/1...           offmychest   \n",
       "3  https://www.reddit.com/r/relationship_advice/c...  relationship_advice   \n",
       "4  https://www.reddit.com/r/offmychest/comments/1...           offmychest   \n",
       "\n",
       "   posting_hr  posting_day  count_text  count_title  \n",
       "0          14            2         616           15  \n",
       "1          21            6          79            6  \n",
       "2          14            2         282           11  \n",
       "3          15            1         429            6  \n",
       "4           9            3        1142            2  "
      ]
     },
     "execution_count": 232,
     "metadata": {},
     "output_type": "execute_result"
    }
   ],
   "source": [
    "# create new columns with the number of words in text and titles\n",
    "df['count_text'] = df['text'].apply(lambda x: len(re.findall(r'(?u)\\b\\w\\w+\\b', x)))\n",
    "df['count_title'] = df['title'].apply(lambda x: len(re.findall(r'(?u)\\b\\w\\w+\\b', x)))\n",
    "df.head(5)"
   ]
  },
  {
   "cell_type": "code",
   "execution_count": 233,
   "metadata": {},
   "outputs": [
    {
     "name": "stderr",
     "output_type": "stream",
     "text": [
      "C:\\Users\\masou\\AppData\\Local\\Temp\\ipykernel_17424\\2696699415.py:2: FutureWarning: The default value of numeric_only in DataFrameGroupBy.mean is deprecated. In a future version, numeric_only will default to False. Either specify numeric_only or select only columns which should be valid for the function.\n",
      "  df.groupby('subreddit').mean()[['count_text', 'count_title']]\n"
     ]
    },
    {
     "data": {
      "text/html": [
       "<div>\n",
       "<style scoped>\n",
       "    .dataframe tbody tr th:only-of-type {\n",
       "        vertical-align: middle;\n",
       "    }\n",
       "\n",
       "    .dataframe tbody tr th {\n",
       "        vertical-align: top;\n",
       "    }\n",
       "\n",
       "    .dataframe thead th {\n",
       "        text-align: right;\n",
       "    }\n",
       "</style>\n",
       "<table border=\"1\" class=\"dataframe\">\n",
       "  <thead>\n",
       "    <tr style=\"text-align: right;\">\n",
       "      <th></th>\n",
       "      <th>count_text</th>\n",
       "      <th>count_title</th>\n",
       "    </tr>\n",
       "    <tr>\n",
       "      <th>subreddit</th>\n",
       "      <th></th>\n",
       "      <th></th>\n",
       "    </tr>\n",
       "  </thead>\n",
       "  <tbody>\n",
       "    <tr>\n",
       "      <th>offmychest</th>\n",
       "      <td>291.441664</td>\n",
       "      <td>8.046669</td>\n",
       "    </tr>\n",
       "    <tr>\n",
       "      <th>relationship_advice</th>\n",
       "      <td>388.002379</td>\n",
       "      <td>14.124881</td>\n",
       "    </tr>\n",
       "  </tbody>\n",
       "</table>\n",
       "</div>"
      ],
      "text/plain": [
       "                     count_text  count_title\n",
       "subreddit                                   \n",
       "offmychest           291.441664     8.046669\n",
       "relationship_advice  388.002379    14.124881"
      ]
     },
     "execution_count": 233,
     "metadata": {},
     "output_type": "execute_result"
    }
   ],
   "source": [
    "# average number of words in text and title for different categories\n",
    "df.groupby('subreddit').mean()[['count_text', 'count_title']]"
   ]
  },
  {
   "cell_type": "code",
   "execution_count": 234,
   "metadata": {},
   "outputs": [
    {
     "data": {
      "text/html": [
       "<div>\n",
       "<style scoped>\n",
       "    .dataframe tbody tr th:only-of-type {\n",
       "        vertical-align: middle;\n",
       "    }\n",
       "\n",
       "    .dataframe tbody tr th {\n",
       "        vertical-align: top;\n",
       "    }\n",
       "\n",
       "    .dataframe thead tr th {\n",
       "        text-align: left;\n",
       "    }\n",
       "</style>\n",
       "<table border=\"1\" class=\"dataframe\">\n",
       "  <thead>\n",
       "    <tr>\n",
       "      <th></th>\n",
       "      <th>subreddit</th>\n",
       "      <th colspan=\"3\" halign=\"left\">count_text</th>\n",
       "      <th colspan=\"3\" halign=\"left\">count_title</th>\n",
       "    </tr>\n",
       "    <tr>\n",
       "      <th></th>\n",
       "      <th></th>\n",
       "      <th>min</th>\n",
       "      <th>max</th>\n",
       "      <th>mean</th>\n",
       "      <th>min</th>\n",
       "      <th>max</th>\n",
       "      <th>mean</th>\n",
       "    </tr>\n",
       "  </thead>\n",
       "  <tbody>\n",
       "    <tr>\n",
       "      <th>0</th>\n",
       "      <td>offmychest</td>\n",
       "      <td>1</td>\n",
       "      <td>3574</td>\n",
       "      <td>291.441664</td>\n",
       "      <td>1</td>\n",
       "      <td>52</td>\n",
       "      <td>8.046669</td>\n",
       "    </tr>\n",
       "    <tr>\n",
       "      <th>1</th>\n",
       "      <td>relationship_advice</td>\n",
       "      <td>0</td>\n",
       "      <td>3676</td>\n",
       "      <td>388.002379</td>\n",
       "      <td>2</td>\n",
       "      <td>62</td>\n",
       "      <td>14.124881</td>\n",
       "    </tr>\n",
       "  </tbody>\n",
       "</table>\n",
       "</div>"
      ],
      "text/plain": [
       "             subreddit count_text                   count_title               \n",
       "                              min   max        mean         min max       mean\n",
       "0           offmychest          1  3574  291.441664           1  52   8.046669\n",
       "1  relationship_advice          0  3676  388.002379           2  62  14.124881"
      ]
     },
     "execution_count": 234,
     "metadata": {},
     "output_type": "execute_result"
    }
   ],
   "source": [
    "#df[['count_text', 'count_title']].describe()\n",
    "df.groupby(['subreddit'], as_index=False).agg({'count_text':['min', 'max','mean'],'count_title':['min', 'max','mean']})"
   ]
  },
  {
   "cell_type": "markdown",
   "metadata": {},
   "source": [
    "As we can see, the number of words in the body of text and also the title for the relationship_advice subreddit is almost 25% larger than that of the offmychest subreddit. The same trend is observed for the title count. Now, let us plot distribution of the number of words for each of the subreddits. "
   ]
  },
  {
   "cell_type": "code",
   "execution_count": 235,
   "metadata": {},
   "outputs": [
    {
     "data": {
      "image/png": "[encoded data removed]",
      "text/plain": [
       "<Figure size 1600x600 with 2 Axes>"
      ]
     },
     "metadata": {},
     "output_type": "display_data"
    }
   ],
   "source": [
    "# distribution of the words for each of the subreddits, in the text and title of the listings. \n",
    "fig, axs = plt.subplots(1,2, figsize=(16,6))\n",
    "sns.histplot(data=df, x='count_text', hue='subreddit', ax=axs[0])\n",
    "axs[0].legend(['offmychest', 'relationship_advice'])\n",
    "axs[0].set_title('word counts in text', size=17)\n",
    "axs[0].set_xlim([0, 1000])\n",
    "\n",
    "sns.histplot(data=df, x='count_title', hue='subreddit', ax=axs[1])\n",
    "axs[1].legend(['offmychest', 'relationship_advice'])\n",
    "axs[1].set_title('word counts in title', size=17)\n",
    "axs[1].set_xlim([0, 40]);"
   ]
  },
  {
   "cell_type": "markdown",
   "metadata": {},
   "source": [
    "The distribution graphs also show that the words count in both title and text of the postings in the relationship advice subreddit is more than that of the offmychest subreddit. This features can be used later to help categorize our listings. "
   ]
  },
  {
   "cell_type": "markdown",
   "metadata": {},
   "source": [
    "### Sentiment analysis of the text and comparing the scores\n",
    "In this section, we will use sentiment analysis tools to evaluate the sentiment of the sentences and see if there is any relation between the sentiments and the subreddit."
   ]
  },
  {
   "cell_type": "code",
   "execution_count": 236,
   "metadata": {},
   "outputs": [],
   "source": [
    "# instantiate the sentiment analyzer\n",
    "sent = SentimentIntensityAnalyzer()"
   ]
  },
  {
   "cell_type": "code",
   "execution_count": 237,
   "metadata": {},
   "outputs": [],
   "source": [
    "# combine the title and text of the listing\n",
    "# get a sentiment compound score\n",
    "df['sentiment'] = df.apply(lambda x: \n",
    "                           sent.polarity_scores(x['text']+x['title'])['compound'],\n",
    "                           axis=1)"
   ]
  },
  {
   "cell_type": "code",
   "execution_count": 238,
   "metadata": {},
   "outputs": [
    {
     "data": {
      "text/html": [
       "<div>\n",
       "<style scoped>\n",
       "    .dataframe tbody tr th:only-of-type {\n",
       "        vertical-align: middle;\n",
       "    }\n",
       "\n",
       "    .dataframe tbody tr th {\n",
       "        vertical-align: top;\n",
       "    }\n",
       "\n",
       "    .dataframe thead th {\n",
       "        text-align: right;\n",
       "    }\n",
       "</style>\n",
       "<table border=\"1\" class=\"dataframe\">\n",
       "  <thead>\n",
       "    <tr style=\"text-align: right;\">\n",
       "      <th></th>\n",
       "      <th>text</th>\n",
       "      <th>title</th>\n",
       "      <th>listingid</th>\n",
       "      <th>created</th>\n",
       "      <th>url</th>\n",
       "      <th>subreddit</th>\n",
       "      <th>posting_hr</th>\n",
       "      <th>posting_day</th>\n",
       "      <th>count_text</th>\n",
       "      <th>count_title</th>\n",
       "      <th>sentiment</th>\n",
       "    </tr>\n",
       "  </thead>\n",
       "  <tbody>\n",
       "    <tr>\n",
       "      <th>0</th>\n",
       "      <td>\\nI have been with the most loving caring man ...</td>\n",
       "      <td>He(18M) broke up with me(18F) over text and i ...</td>\n",
       "      <td>18s2ejz</td>\n",
       "      <td>1.703689e+09</td>\n",
       "      <td>https://www.reddit.com/r/relationship_advice/c...</td>\n",
       "      <td>relationship_advice</td>\n",
       "      <td>14</td>\n",
       "      <td>2</td>\n",
       "      <td>616</td>\n",
       "      <td>15</td>\n",
       "      <td>0.9493</td>\n",
       "    </tr>\n",
       "  </tbody>\n",
       "</table>\n",
       "</div>"
      ],
      "text/plain": [
       "                                                text  \\\n",
       "0  \\nI have been with the most loving caring man ...   \n",
       "\n",
       "                                               title listingid       created  \\\n",
       "0  He(18M) broke up with me(18F) over text and i ...   18s2ejz  1.703689e+09   \n",
       "\n",
       "                                                 url            subreddit  \\\n",
       "0  https://www.reddit.com/r/relationship_advice/c...  relationship_advice   \n",
       "\n",
       "   posting_hr  posting_day  count_text  count_title  sentiment  \n",
       "0          14            2         616           15     0.9493  "
      ]
     },
     "execution_count": 238,
     "metadata": {},
     "output_type": "execute_result"
    }
   ],
   "source": [
    "df.head(1)"
   ]
  },
  {
   "cell_type": "code",
   "execution_count": 239,
   "metadata": {},
   "outputs": [
    {
     "data": {
      "text/html": [
       "<div>\n",
       "<style scoped>\n",
       "    .dataframe tbody tr th:only-of-type {\n",
       "        vertical-align: middle;\n",
       "    }\n",
       "\n",
       "    .dataframe tbody tr th {\n",
       "        vertical-align: top;\n",
       "    }\n",
       "\n",
       "    .dataframe thead tr th {\n",
       "        text-align: left;\n",
       "    }\n",
       "</style>\n",
       "<table border=\"1\" class=\"dataframe\">\n",
       "  <thead>\n",
       "    <tr>\n",
       "      <th></th>\n",
       "      <th>subreddit</th>\n",
       "      <th colspan=\"3\" halign=\"left\">sentiment</th>\n",
       "    </tr>\n",
       "    <tr>\n",
       "      <th></th>\n",
       "      <th></th>\n",
       "      <th>min</th>\n",
       "      <th>max</th>\n",
       "      <th>mean</th>\n",
       "    </tr>\n",
       "  </thead>\n",
       "  <tbody>\n",
       "    <tr>\n",
       "      <th>0</th>\n",
       "      <td>offmychest</td>\n",
       "      <td>-0.9998</td>\n",
       "      <td>0.9999</td>\n",
       "      <td>-0.076784</td>\n",
       "    </tr>\n",
       "    <tr>\n",
       "      <th>1</th>\n",
       "      <td>relationship_advice</td>\n",
       "      <td>-0.9994</td>\n",
       "      <td>0.9999</td>\n",
       "      <td>0.318352</td>\n",
       "    </tr>\n",
       "  </tbody>\n",
       "</table>\n",
       "</div>"
      ],
      "text/plain": [
       "             subreddit sentiment                  \n",
       "                             min     max      mean\n",
       "0           offmychest   -0.9998  0.9999 -0.076784\n",
       "1  relationship_advice   -0.9994  0.9999  0.318352"
      ]
     },
     "execution_count": 239,
     "metadata": {},
     "output_type": "execute_result"
    }
   ],
   "source": [
    "df.groupby(['subreddit'], as_index=False).agg({'sentiment':['min', 'max','mean']})"
   ]
  },
  {
   "cell_type": "code",
   "execution_count": 240,
   "metadata": {},
   "outputs": [
    {
     "data": {
      "image/png": "[encoded data removed]",
      "text/plain": [
       "<Figure size 800x600 with 1 Axes>"
      ]
     },
     "metadata": {},
     "output_type": "display_data"
    }
   ],
   "source": [
    "plt.figure(figsize=(8,6))\n",
    "sns.histplot(data=df, x='sentiment', hue='subreddit', multiple='dodge')\n",
    "plt.legend(['offmychest', 'relationship_advice'])\n",
    "plt.title('sentiment score distribution', size=17);"
   ]
  },
  {
   "cell_type": "markdown",
   "metadata": {},
   "source": [
    "It is clear from the graph and also from the table that the sentiment of words in the relationship_advice subreddit is more towards the positive sentiment while that of the offmychest tends to be on the negative side. Looking at the nature of the latter one, it was predictable to get such results. These sentiment scores could later be used in our classification algorithms. "
   ]
  },
  {
   "cell_type": "markdown",
   "metadata": {},
   "source": [
    "### Word analysis with CountVectorizer"
   ]
  },
  {
   "cell_type": "markdown",
   "metadata": {},
   "source": [
    "In this section, we will try to analyze the words in each of the subreddit listings and see what sort of information can we extract from it. "
   ]
  },
  {
   "cell_type": "code",
   "execution_count": 241,
   "metadata": {},
   "outputs": [
    {
     "data": {
      "text/plain": [
       "0    \\nI have been with the most loving caring man ...\n",
       "1    i’ll get the frick over it though. i am strong...\n",
       "2    Just to note there is discussion on sensitive ...\n",
       "Name: text_title, dtype: object"
      ]
     },
     "execution_count": 241,
     "metadata": {},
     "output_type": "execute_result"
    }
   ],
   "source": [
    "# let us first create a df with vectorized words\n",
    "df['text_title'] = df.apply(lambda x: x['text'] + x['title'] ,axis=1)\n",
    "df_vectorized = df['text_title']\n",
    "df_vectorized.head(3)"
   ]
  },
  {
   "cell_type": "code",
   "execution_count": 242,
   "metadata": {},
   "outputs": [
    {
     "name": "stdout",
     "output_type": "stream",
     "text": [
      "(7761, 29947)\n"
     ]
    },
    {
     "data": {
      "text/html": [
       "<div>\n",
       "<style scoped>\n",
       "    .dataframe tbody tr th:only-of-type {\n",
       "        vertical-align: middle;\n",
       "    }\n",
       "\n",
       "    .dataframe tbody tr th {\n",
       "        vertical-align: top;\n",
       "    }\n",
       "\n",
       "    .dataframe thead th {\n",
       "        text-align: right;\n",
       "    }\n",
       "</style>\n",
       "<table border=\"1\" class=\"dataframe\">\n",
       "  <thead>\n",
       "    <tr style=\"text-align: right;\">\n",
       "      <th></th>\n",
       "      <th>00</th>\n",
       "      <th>000</th>\n",
       "      <th>000pesos</th>\n",
       "      <th>00am</th>\n",
       "      <th>00pm</th>\n",
       "      <th>01</th>\n",
       "      <th>0100</th>\n",
       "      <th>02</th>\n",
       "      <th>0200</th>\n",
       "      <th>03</th>\n",
       "      <th>...</th>\n",
       "      <th>zoophile</th>\n",
       "      <th>zopiclone</th>\n",
       "      <th>zuko</th>\n",
       "      <th>zyada</th>\n",
       "      <th>zzz</th>\n",
       "      <th>zzzzzzt</th>\n",
       "      <th>zzzzzzzzt</th>\n",
       "      <th>îs</th>\n",
       "      <th>μy</th>\n",
       "      <th>ні</th>\n",
       "    </tr>\n",
       "  </thead>\n",
       "  <tbody>\n",
       "    <tr>\n",
       "      <th>0</th>\n",
       "      <td>0</td>\n",
       "      <td>0</td>\n",
       "      <td>0</td>\n",
       "      <td>0</td>\n",
       "      <td>0</td>\n",
       "      <td>0</td>\n",
       "      <td>0</td>\n",
       "      <td>0</td>\n",
       "      <td>0</td>\n",
       "      <td>0</td>\n",
       "      <td>...</td>\n",
       "      <td>0</td>\n",
       "      <td>0</td>\n",
       "      <td>0</td>\n",
       "      <td>0</td>\n",
       "      <td>0</td>\n",
       "      <td>0</td>\n",
       "      <td>0</td>\n",
       "      <td>0</td>\n",
       "      <td>0</td>\n",
       "      <td>0</td>\n",
       "    </tr>\n",
       "    <tr>\n",
       "      <th>1</th>\n",
       "      <td>0</td>\n",
       "      <td>0</td>\n",
       "      <td>0</td>\n",
       "      <td>0</td>\n",
       "      <td>0</td>\n",
       "      <td>0</td>\n",
       "      <td>0</td>\n",
       "      <td>0</td>\n",
       "      <td>0</td>\n",
       "      <td>0</td>\n",
       "      <td>...</td>\n",
       "      <td>0</td>\n",
       "      <td>0</td>\n",
       "      <td>0</td>\n",
       "      <td>0</td>\n",
       "      <td>0</td>\n",
       "      <td>0</td>\n",
       "      <td>0</td>\n",
       "      <td>0</td>\n",
       "      <td>0</td>\n",
       "      <td>0</td>\n",
       "    </tr>\n",
       "    <tr>\n",
       "      <th>2</th>\n",
       "      <td>0</td>\n",
       "      <td>0</td>\n",
       "      <td>0</td>\n",
       "      <td>0</td>\n",
       "      <td>0</td>\n",
       "      <td>0</td>\n",
       "      <td>0</td>\n",
       "      <td>0</td>\n",
       "      <td>0</td>\n",
       "      <td>0</td>\n",
       "      <td>...</td>\n",
       "      <td>0</td>\n",
       "      <td>0</td>\n",
       "      <td>0</td>\n",
       "      <td>0</td>\n",
       "      <td>0</td>\n",
       "      <td>0</td>\n",
       "      <td>0</td>\n",
       "      <td>0</td>\n",
       "      <td>0</td>\n",
       "      <td>0</td>\n",
       "    </tr>\n",
       "  </tbody>\n",
       "</table>\n",
       "<p>3 rows × 29947 columns</p>\n",
       "</div>"
      ],
      "text/plain": [
       "   00  000  000pesos  00am  00pm  01  0100  02  0200  03  ...  zoophile  \\\n",
       "0   0    0         0     0     0   0     0   0     0   0  ...         0   \n",
       "1   0    0         0     0     0   0     0   0     0   0  ...         0   \n",
       "2   0    0         0     0     0   0     0   0     0   0  ...         0   \n",
       "\n",
       "   zopiclone  zuko  zyada  zzz  zzzzzzt  zzzzzzzzt  îs  μy  ні  \n",
       "0          0     0      0    0        0          0   0   0   0  \n",
       "1          0     0      0    0        0          0   0   0   0  \n",
       "2          0     0      0    0        0          0   0   0   0  \n",
       "\n",
       "[3 rows x 29947 columns]"
      ]
     },
     "execution_count": 242,
     "metadata": {},
     "output_type": "execute_result"
    }
   ],
   "source": [
    "# create a countvectorizer object and use it to vectorize the column\n",
    "cvec = CountVectorizer(stop_words='english')\n",
    "# note that df_vectorized should not be a matrix or dataframe here, it \n",
    "# should be vector or a series\n",
    "cvec.fit(df_vectorized)\n",
    "df_vectorized = cvec.transform(df_vectorized)\n",
    "# convert df_vetorized to dataframe with all new features\n",
    "df_vectorized = pd.DataFrame(df_vectorized.todense(), \n",
    "                             columns=cvec.get_feature_names_out())\n",
    "print(df_vectorized.shape)\n",
    "df_vectorized.head(3)\n"
   ]
  },
  {
   "cell_type": "code",
   "execution_count": 243,
   "metadata": {},
   "outputs": [
    {
     "name": "stdout",
     "output_type": "stream",
     "text": [
      "(3557, 29947)\n",
      "(4204, 29947)\n"
     ]
    }
   ],
   "source": [
    "# let us create two extra dataframes based on subreddits as well\n",
    "df_vec_offmychest = df_vectorized[df['subreddit'] == 'offmychest']\n",
    "df_vec_relationship = df_vectorized[df['subreddit'] == 'relationship_advice']\n",
    "print(df_vec_offmychest.shape)\n",
    "print(df_vec_relationship.shape)"
   ]
  },
  {
   "cell_type": "markdown",
   "metadata": {},
   "source": [
    "To begin with, we will start analyzing the words in both of the subreddits."
   ]
  },
  {
   "cell_type": "code",
   "execution_count": 244,
   "metadata": {},
   "outputs": [
    {
     "data": {
      "text/plain": [
       "just            17983\n",
       "like            16435\n",
       "don             12550\n",
       "know            10728\n",
       "feel            10504\n",
       "time            10327\n",
       "want             9698\n",
       "ve               9117\n",
       "really           7892\n",
       "said             7149\n",
       "relationship     6983\n",
       "told             6495\n",
       "things           6462\n",
       "didn             6401\n",
       "friends          5692\n",
       "years            5620\n",
       "think            5418\n",
       "got              5346\n",
       "going            5013\n",
       "family           5006\n",
       "dtype: int64"
      ]
     },
     "execution_count": 244,
     "metadata": {},
     "output_type": "execute_result"
    }
   ],
   "source": [
    "df_vectorized.sum().sort_values(ascending=False).head(20)"
   ]
  },
  {
   "cell_type": "markdown",
   "metadata": {},
   "source": [
    "Looking at this data, we can find words like 'feel', 'like', 'relationship', 'friends', 'family' occur more frequently and it makes sense to see these words more often in the context of the subreddits we are investigating. Let us be more specific and look at r/offmychest and r/relationship_advice separately and see if we can find any common popular words there.  "
   ]
  },
  {
   "cell_type": "code",
   "execution_count": 245,
   "metadata": {},
   "outputs": [
    {
     "data": {
      "text/plain": [
       "just       7920\n",
       "like       6548\n",
       "don        5221\n",
       "feel       4477\n",
       "know       4221\n",
       "time       3701\n",
       "ve         3625\n",
       "want       3607\n",
       "really     2962\n",
       "life       2599\n",
       "people     2547\n",
       "got        2382\n",
       "didn       2347\n",
       "think      2206\n",
       "friends    2129\n",
       "things     2124\n",
       "family     2113\n",
       "years      2080\n",
       "told       2001\n",
       "said       1963\n",
       "dtype: int64"
      ]
     },
     "execution_count": 245,
     "metadata": {},
     "output_type": "execute_result"
    }
   ],
   "source": [
    "# 20 most popular words in offmychest subreddit\n",
    "df_vec_offmychest.sum().sort_values(ascending=False).head(20)"
   ]
  },
  {
   "cell_type": "code",
   "execution_count": 246,
   "metadata": {},
   "outputs": [
    {
     "data": {
      "text/plain": [
       "just            10063\n",
       "like             9887\n",
       "don              7329\n",
       "time             6626\n",
       "know             6507\n",
       "want             6091\n",
       "feel             6027\n",
       "relationship     5545\n",
       "ve               5492\n",
       "said             5186\n",
       "really           4930\n",
       "told             4494\n",
       "things           4338\n",
       "didn             4054\n",
       "friends          3563\n",
       "years            3540\n",
       "think            3212\n",
       "going            3146\n",
       "love             3087\n",
       "got              2964\n",
       "dtype: int64"
      ]
     },
     "execution_count": 246,
     "metadata": {},
     "output_type": "execute_result"
    }
   ],
   "source": [
    "# 20 most popular words in relationship_advice subreddit\n",
    "df_vec_relationship.sum().sort_values(ascending=False).head(20)"
   ]
  },
  {
   "cell_type": "code",
   "execution_count": 254,
   "metadata": {},
   "outputs": [
    {
     "data": {
      "image/png": "[encoded data removed]",
      "text/plain": [
       "<Figure size 1000x600 with 2 Axes>"
      ]
     },
     "metadata": {},
     "output_type": "display_data"
    }
   ],
   "source": [
    "# let us plot the word counts side by side\n",
    "fig, axs = plt.subplots(1, 2, figsize= (10,6))\n",
    "df_vec_offmychest.sum().sort_values(ascending=False).head(20).plot(kind='barh', ax=axs[0])\n",
    "axs[0].set_title('offmychest')\n",
    "axs[0].set_xlabel('counts')\n",
    "axs[0].set_ylabel('words')\n",
    "\n",
    "df_vec_relationship.sum().sort_values(ascending=False).head(20).plot(kind='barh', ax=axs[1])\n",
    "axs[1].set_title('relationship_advice')\n",
    "axs[1].set_xlabel('counts')\n",
    "axs[1].set_ylabel('words')\n",
    "\n",
    "fig.tight_layout()"
   ]
  },
  {
   "cell_type": "markdown",
   "metadata": {},
   "source": [
    "Looking at this graph, we can say there are some words that exist numerously in both of the subreddits, e.g. 'just', 'like', 'don', 'time', 'feel', etc. These words will not help us that much while using NLP to categorize listings, and most likely we can get rid of them during the tokenizing process by excluding the words that exist in large portions of our data. On the other hand, we can see words like 'life', 'people', 'family' that are amongst the most popular words in the offmychest subreddit but not in the relationship_advice. Words like 'relationship', 'love', 'told', 'said' are shown up in the most popular words of the relationship_advice subreddit but are not among that of offmychest."
   ]
  },
  {
   "cell_type": "markdown",
   "metadata": {},
   "source": [
    "Now, let us do similar analysis but this time with bigrams (combination of two words instead of single words)."
   ]
  },
  {
   "cell_type": "code",
   "execution_count": 259,
   "metadata": {},
   "outputs": [
    {
     "data": {
      "text/plain": [
       "(7761, 1000)"
      ]
     },
     "execution_count": 259,
     "metadata": {},
     "output_type": "execute_result"
    }
   ],
   "source": [
    "df_vectorized_bigram = df['text_title']\n",
    "cvec_bigram = CountVectorizer(stop_words='english', ngram_range=(2,2), max_features=1000)\n",
    "# note that max_features 1000 was used here as no limit for this would have caused some memory issues with bigrams. \n",
    "cvec_bigram.fit(df_vectorized_bigram)\n",
    "df_vectorized_bigram = cvec_bigram.transform(df_vectorized_bigram)\n",
    "# convert df_vetorized to dataframe with all new features\n",
    "df_vectorized_bigram = pd.DataFrame(df_vectorized_bigram.todense(), \n",
    "                                    columns=cvec_bigram.get_feature_names_out())\n",
    "df_vectorized_bigram.shape"
   ]
  },
  {
   "cell_type": "code",
   "execution_count": 262,
   "metadata": {},
   "outputs": [
    {
     "data": {
      "image/png": "[encoded data removed]",
      "text/plain": [
       "<Figure size 1000x600 with 2 Axes>"
      ]
     },
     "metadata": {},
     "output_type": "display_data"
    }
   ],
   "source": [
    "# let us create two extra dataframes based on subreddits as well\n",
    "df_vec_offmychest_bigram = df_vectorized_bigram[df['subreddit'] == 'offmychest']\n",
    "df_vec_relationship_bigram = df_vectorized_bigram[df['subreddit'] == 'relationship_advice']\n",
    "\n",
    "# let us plot the word counts side by side\n",
    "fig, axs = plt.subplots(1, 2, figsize= (10,6))\n",
    "fig.suptitle('popular bigrams in each subreddit', fontsize = 17)\n",
    "df_vec_offmychest_bigram.sum().sort_values(ascending=False).head(20).plot(kind='barh', ax=axs[0])\n",
    "axs[0].set_title('offmychest')\n",
    "axs[0].set_xlabel('counts')\n",
    "axs[0].set_ylabel('words')\n",
    "\n",
    "df_vec_relationship_bigram.sum().sort_values(ascending=False).head(20).plot(kind='barh', ax=axs[1])\n",
    "axs[1].set_title('relationship_advice')\n",
    "axs[1].set_xlabel('counts')\n",
    "axs[1].set_ylabel('words')\n",
    "\n",
    "fig.tight_layout()"
   ]
  },
  {
   "cell_type": "markdown",
   "metadata": {},
   "source": [
    "Bigram analysis in this case does not add that much of information to us as a big portion of popular bigrams are terms like don't 'verb'. The interesting points are presence of words like 'mental health', 'best friend' in offmychest subreddit and words like 'long distance' and 'started dating' in relationship_advice subreddit. "
   ]
  },
  {
   "cell_type": "code",
   "execution_count": null,
   "metadata": {},
   "outputs": [],
   "source": []
  }
 ],
 "metadata": {
  "kernelspec": {
   "display_name": "base",
   "language": "python",
   "name": "python3"
  },
  "language_info": {
   "codemirror_mode": {
    "name": "ipython",
    "version": 3
   },
   "file_extension": ".py",
   "mimetype": "text/x-python",
   "name": "python",
   "nbconvert_exporter": "python",
   "pygments_lexer": "ipython3",
   "version": "3.11.4"
  }
 },
 "nbformat": 4,
 "nbformat_minor": 2
}
